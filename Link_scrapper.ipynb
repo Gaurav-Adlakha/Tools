{
 "cells": [
  {
   "cell_type": "code",
   "execution_count": null,
   "id": "d90781ba",
   "metadata": {},
   "outputs": [],
   "source": [
    "import httpx,asyncio,nest_asyncio\n",
    "from bs4 import BeautifulSoup\n",
    "from urllib.parse import urljoin,urlparse\n",
    "\n",
    "nest_asyncio.apply()\n",
    "\n",
    "profiles,html,links = [],[],[]\n",
    "\n",
    "async def scrape_manual():\n",
    "    'Manual login scraper'\n",
    "    from playwright.async_api import async_playwright\n",
    "    async with async_playwright() as p:\n",
    "        browser = await p.chromium.launch(headless=False)\n",
    "        page = await browser.new_page()\n",
    "        await page.goto(\"https://maven.com/parlance-labs/evals/2/welcome\")\n",
    "        input(\"Login manually, then press Enter...\")\n",
    "        content = await page.content()\n",
    "        await browser.close()\n",
    "        return content\n",
    "\n",
    "def extract_profiles(h):\n",
    "    'Extract LinkedIn profiles'\n",
    "    soup = BeautifulSoup(h, 'html.parser')\n",
    "    all_links = soup.find_all('a', href=True)\n",
    "    return [{'url': clean_url(l['href']), 'text': l.get_text(strip=True)} \n",
    "            for l in all_links if 'linkedin.com/in/' in l['href']]\n",
    "\n",
    "def clean_url(href): \n",
    "    if href.startswith('//'): return f\"https:{href}\"\n",
    "    if href.startswith('/'): return f\"https://linkedin.com{href}\"\n",
    "    return href\n",
    "\n",
    "h = await scrape_manual()\n",
    "if h: \n",
    "    profiles = extract_profiles(h)\n",
    "    print(f\"Found {len(profiles)} profiles\")\n",
    "    for i,p in enumerate(profiles): print(f\"{i+1}. {p['text']}: {p['url']}\")"
   ]
  },
  {
   "cell_type": "code",
   "execution_count": 36,
   "id": "c5970807",
   "metadata": {},
   "outputs": [
    {
     "name": "stdout",
     "output_type": "stream",
     "text": [
      "\u001b[2mUsing Python 3.11.13 environment at: /Users/gaurav.adlakha/Desktop/wks/news-feed/.venv\u001b[0m\n",
      "\u001b[2mAudited \u001b[1m2 packages\u001b[0m \u001b[2min 1ms\u001b[0m\u001b[0m\n"
     ]
    }
   ],
   "source": [
    "# Install Playwright\n",
    "!uv pip install playwright nest-asyncio\n",
    "!playwright install chromium\n"
   ]
  }
 ],
 "metadata": {
  "kernelspec": {
   "display_name": "snwflk-sandbox",
   "language": "python",
   "name": "snwflk-sandbox"
  },
  "language_info": {
   "codemirror_mode": {
    "name": "ipython",
    "version": 3
   },
   "file_extension": ".py",
   "mimetype": "text/x-python",
   "name": "python",
   "nbconvert_exporter": "python",
   "pygments_lexer": "ipython3",
   "version": "3.11.13"
  }
 },
 "nbformat": 4,
 "nbformat_minor": 5
}
