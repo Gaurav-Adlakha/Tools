{
 "cells": [
  {
   "cell_type": "code",
   "execution_count": 3,
   "id": "3535b53c-8a73-436e-b333-a84d42523c90",
   "metadata": {},
   "outputs": [],
   "source": [
    "# !uv pip install claudette"
   ]
  },
  {
   "cell_type": "code",
   "execution_count": 12,
   "id": "e58aab6b-4495-41c5-8e78-b0f02bdea5ba",
   "metadata": {},
   "outputs": [
    {
     "name": "stdout",
     "output_type": "stream",
     "text": [
      "✅ API key loaded successfully!\n",
      "Key starts with: sk-ant-api03-t8...\n"
     ]
    }
   ],
   "source": [
    "import os\n",
    "import subprocess\n",
    "\n",
    "# Get API key from properly configured zshrc\n",
    "result = subprocess.run(['zsh', '-c', 'source ~/.zshrc && echo $ANTHROPIC_API_KEY'], \n",
    "                       capture_output=True, text=True)\n",
    "api_key = result.stdout.strip()\n",
    "\n",
    "if api_key and api_key.startswith('sk-ant'):\n",
    "    os.environ['ANTHROPIC_API_KEY'] = api_key\n",
    "    print(\"✅ API key loaded successfully!\")\n",
    "    print(f\"Key starts with: {api_key[:15]}...\")"
   ]
  },
  {
   "cell_type": "code",
   "execution_count": 13,
   "id": "cbeaf098-dec0-4bc4-9385-cd46f6a78e06",
   "metadata": {},
   "outputs": [
    {
     "name": "stdout",
     "output_type": "stream",
     "text": [
      "claude-sonnet-4-20250514\n"
     ]
    }
   ],
   "source": [
    "from claudette import *\n",
    "m = models[1]\n",
    "print(m)\n",
    "chat = AsyncChat(m, sp='u r comedian')"
   ]
  },
  {
   "cell_type": "code",
   "execution_count": 14,
   "id": "e5920e5c-c276-487f-8dc7-a889f884035b",
   "metadata": {},
   "outputs": [
    {
     "data": {
      "text/markdown": [
       "Hello! How are you doing today? Is there anything I can help you with?\n",
       "\n",
       "<details>\n",
       "\n",
       "- id: `msg_012u6sEjyNznPDNNey3EoSiX`\n",
       "- content: `[{'citations': None, 'text': 'Hello! How are you doing today? Is there anything I can help you with?', 'type': 'text'}]`\n",
       "- model: `claude-sonnet-4-20250514`\n",
       "- role: `assistant`\n",
       "- stop_reason: `end_turn`\n",
       "- stop_sequence: `None`\n",
       "- type: `message`\n",
       "- usage: `{'cache_creation_input_tokens': 0, 'cache_read_input_tokens': 0, 'input_tokens': 11, 'output_tokens': 20, 'server_tool_use': None, 'service_tier': 'standard'}`\n",
       "\n",
       "</details>"
      ],
      "text/plain": [
       "Message(id='msg_012u6sEjyNznPDNNey3EoSiX', content=[TextBlock(citations=None, text='Hello! How are you doing today? Is there anything I can help you with?', type='text')], model='claude-sonnet-4-20250514', role='assistant', stop_reason='end_turn', stop_sequence=None, type='message', usage=In: 11; Out: 20; Cache create: 0; Cache read: 0; Total Tokens: 31; Search: 0)"
      ]
     },
     "execution_count": 14,
     "metadata": {},
     "output_type": "execute_result"
    }
   ],
   "source": [
    "res= await chat(\"hi\")\n",
    "res"
   ]
  },
  {
   "cell_type": "code",
   "execution_count": 18,
   "id": "bcdb5736-df1c-40f4-80da-78486e49e771",
   "metadata": {},
   "outputs": [],
   "source": [
    "SYSTEM_PROMPT=\"\"\"\n",
    "    \"You are a confident and opinionated culinary expert who prioritizes clarity above all else. \"\n",
    "    \"Your mission is to deliver crystal-clear, foolproof recipes that anyone can follow successfully.\\n\\n\"\n",
    "    \n",
    "    \"## Core Principles:\\n\"\n",
    "    \"**Always do:**\\n\"\n",
    "    \"- Write ingredient lists with EXACT measurements and standard units - no vague terms like 'a pinch' or 'to taste'\\n\"\n",
    "    \"- Break down instructions into precise, numbered steps with specific times and temperatures\\n\"\n",
    "    \"- Explicitly state serving size at the very beginning (default to 2 people if unspecified)\\n\"\n",
    "    \"- Give ONE complete recipe - no follow-up questions or multiple options\\n\"\n",
    "    \"- If adapting a recipe, clearly state it's a modified version and explain key changes\\n\\n\"\n",
    "    \n",
    "    \"**Never do:**\\n\"\n",
    "    \"- Suggest recipes with hard-to-find ingredients without providing common substitutes\\n\"\n",
    "    \"- Use ambiguous terms like 'cook until done' or 'season to taste'\\n\"\n",
    "    \"- Include unnecessary commentary or fluff - focus on clarity and precision\\n\"\n",
    "    \n",
    "    \"**Safety:** If a request is unsafe or unethical, respond with a firm 'I cannot assist with that request' and explain why.\\n\\n\"\n",
    "    \n",
    "    \"## Required Format:\\n\"\n",
    "    \"Use strict Markdown formatting:\\n\"\n",
    "    \"1. Recipe name as `## Heading`\\n\"\n",
    "    \"2. One-line description of the dish\\n\"\n",
    "    \"3. `### Ingredients` with bullet points\\n\"\n",
    "    \"4. `### Instructions` with numbered steps\\n\"\n",
    "    \"5. `### Notes` only if absolutely necessary for success\\n\\n\"\n",
    "    \n",
    "    \"Assume basic pantry ingredients only unless specifically mentioned.\"\n",
    "\"\"\""
   ]
  },
  {
   "cell_type": "code",
   "execution_count": 19,
   "id": "f2177a34-037d-4464-96b2-870518113caf",
   "metadata": {},
   "outputs": [],
   "source": [
    "chat = AsyncChat(m, sp=SYSTEM_PROMPT)"
   ]
  },
  {
   "cell_type": "code",
   "execution_count": 23,
   "id": "2d1080b4-b1ef-4b6a-9a85-e353b8393238",
   "metadata": {},
   "outputs": [],
   "source": [
    "# await chat('quick brakfast')"
   ]
  },
  {
   "cell_type": "code",
   "execution_count": 86,
   "id": "0fad44e4-b3bb-4900-9755-f42d15a837a2",
   "metadata": {},
   "outputs": [],
   "source": [
    "from IPython.display import display, Markdown, clear_output\n",
    "from pprint import pprint"
   ]
  },
  {
   "cell_type": "code",
   "execution_count": 89,
   "id": "ab760f24-eca7-40a1-8278-ffe9f277e9b9",
   "metadata": {},
   "outputs": [],
   "source": [
    "from httpx import get as xget\n",
    "\n",
    "def read_url(url:str): \n",
    "    \"reads a url\"\n",
    "    return xget(url, follow_redirects=False).text\n"
   ]
  },
  {
   "cell_type": "code",
   "execution_count": 91,
   "id": "7cab8d4b-35f1-49f0-9a4b-28a574c33890",
   "metadata": {},
   "outputs": [],
   "source": [
    "chat = Chat(m, tools=[read_url])"
   ]
  },
  {
   "cell_type": "code",
   "execution_count": 92,
   "id": "cec8af3e-b95b-4541-9fbd-ab5650f9aba7",
   "metadata": {},
   "outputs": [],
   "source": [
    "pr = \"\"\"\n",
    "look at `https://claudette.answer.ai/` and any links you think might be relevant, to try answer this question: how we can about running claudette chat in async mode'?\n",
    "\"\"\""
   ]
  },
  {
   "cell_type": "code",
   "execution_count": 112,
   "id": "7975abaf-8ece-46b8-baad-01657cd51fbe",
   "metadata": {},
   "outputs": [],
   "source": [
    "chat = AsyncChat(m, tools=[read_url])"
   ]
  },
  {
   "cell_type": "code",
   "execution_count": 113,
   "id": "e4be55d4-b65b-454c-a2d5-de8f2146ce8e",
   "metadata": {},
   "outputs": [],
   "source": [
    "r = chat.toolloop(pr)\n"
   ]
  },
  {
   "cell_type": "code",
   "execution_count": 114,
   "id": "e5fb455a-b317-4969-8f9e-f7c4c8b445d9",
   "metadata": {},
   "outputs": [
    {
     "data": {
      "text/plain": [
       "<fastcore.xtras._save_iter at 0x117eb0cd0>"
      ]
     },
     "execution_count": 114,
     "metadata": {},
     "output_type": "execute_result"
    }
   ],
   "source": [
    "r"
   ]
  },
  {
   "cell_type": "code",
   "execution_count": 121,
   "id": "87d10a70-b977-4937-a0be-c1d9a5990540",
   "metadata": {},
   "outputs": [],
   "source": [
    "# async for o in r: print(o)\n",
    "# pprint(r.value)"
   ]
  },
  {
   "cell_type": "code",
   "execution_count": 122,
   "id": "4facc7bf-84d6-4489-a7ba-58f50d415c50",
   "metadata": {},
   "outputs": [],
   "source": [
    "# chat = Chat(m, sp='Be concise in your responses.', tools=[search_conf()])\n",
    "# pr = 'What is the current weather in San Diego?'\n",
    "# r = chat(pr)\n",
    "# r"
   ]
  },
  {
   "cell_type": "code",
   "execution_count": null,
   "id": "ad12d567-45a1-4890-90c6-4ae6041d6deb",
   "metadata": {},
   "outputs": [],
   "source": []
  },
  {
   "cell_type": "code",
   "execution_count": null,
   "id": "c876d728-144e-455f-bda9-f593380531cc",
   "metadata": {},
   "outputs": [],
   "source": []
  },
  {
   "cell_type": "code",
   "execution_count": null,
   "id": "b54991e9-8fa8-4979-9b82-328e57e686dc",
   "metadata": {},
   "outputs": [],
   "source": []
  },
  {
   "cell_type": "code",
   "execution_count": null,
   "id": "c49fabec-4003-41a2-b5ae-4c40fa47cb76",
   "metadata": {},
   "outputs": [],
   "source": []
  },
  {
   "cell_type": "code",
   "execution_count": null,
   "id": "9ca838b5-4572-4112-9d52-59596e2606c5",
   "metadata": {},
   "outputs": [],
   "source": []
  },
  {
   "cell_type": "code",
   "execution_count": 120,
   "id": "e3bfea4f-9503-40c3-b835-78a04043534f",
   "metadata": {},
   "outputs": [],
   "source": []
  }
 ],
 "metadata": {
  "kernelspec": {
   "display_name": "hw",
   "language": "python",
   "name": "hw"
  },
  "language_info": {
   "codemirror_mode": {
    "name": "ipython",
    "version": 3
   },
   "file_extension": ".py",
   "mimetype": "text/x-python",
   "name": "python",
   "nbconvert_exporter": "python",
   "pygments_lexer": "ipython3",
   "version": "3.10.18"
  }
 },
 "nbformat": 4,
 "nbformat_minor": 5
}
